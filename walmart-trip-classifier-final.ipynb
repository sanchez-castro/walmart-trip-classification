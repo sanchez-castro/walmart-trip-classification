{
 "cells": [
  {
   "cell_type": "markdown",
   "metadata": {},
   "source": [
    "# Trabajo Final de Aprendizaje de Máquina\n",
    "\n",
    "### Walmart Recruiting: Trip Type Classification\n",
    "\n",
    "\n",
    "**J. Adrián Sánchez Castro**   116369<br>\n",
    "**Nohemí Limnones Calvillo**    136135<br>\n",
    "**Manuel Ríos Zagal**           159284<br>\n",
    "\n",
    "\n",
    "#### Diciembre, 2016\n",
    "\n",
    "Instituto Tecnológico Autónomo de México"
   ]
  },
  {
   "cell_type": "markdown",
   "metadata": {},
   "source": [
    "## Introducción"
   ]
  },
  {
   "cell_type": "markdown",
   "metadata": {},
   "source": [
    "El proyecto final consiste en clasificar tipos de viajes de compras basándose en los artículos que compraron los clientes. Para dar algunos ejemplos hipotéticos de tipos de viaje: un cliente puede hacer un pequeño viaje diario para la cena, un viaje semanal para compra de muchos comestibles, un viaje para comprar regalos para unas próximas vacaciones, o un viaje temporada para comprar ropa.\n",
    "\n",
    "Walmart ha categorizado los viajes contenidos en estos datos en 38 distintos tipos usando un método patentado aplicado a un conjunto extendido de datos. Se le reta a recrear esta categorización / agrupación con un conjunto más limitado de características.\n",
    "\n",
    "\n",
    "Para resolver el proyecto se utilizarán 3 algoritmos de aprendizaje máquina: Regresión Logística, Bosques Aleatorios y K-Vecinos Cercanos. El objetivo es tratar de lograr el mayor porcentaje de certeza en la predicción del tipo de viaje.\n",
    "\n",
    "Este proyecto es entregado en un *Ipython Jupyter Notebook* que se encuentra dividido en cuatro secciones.\n",
    "\n",
    "- **Sección 1.** Análisis Exploratorio de Datos\n",
    "- **Sección 2.** Limpieza y Transformación de Datos<br>\n",
    "- **Sección 3.** Modelado\n",
    "- **Sección 4.** Análisis de Resultados"
   ]
  },
  {
   "cell_type": "markdown",
   "metadata": {},
   "source": [
    "## Sección 1. Análisis Exploratorio de Datos"
   ]
  },
  {
   "cell_type": "code",
   "execution_count": 50,
   "metadata": {
    "collapsed": false
   },
   "outputs": [],
   "source": [
    "#importamos todas las librerias\n",
    "import pandas as pd\n",
    "import numpy as np\n",
    "import re \n",
    "import matplotlib.pyplot as plt\n",
    "import scipy\n",
    "\n",
    "from sklearn.cross_validation import train_test_split\n",
    "from sklearn.linear_model import LogisticRegression\n",
    "from sklearn.metrics import log_loss\n",
    "from sklearn.metrics import accuracy_score\n",
    "from sklearn.neighbors import KNeighborsClassifier, RadiusNeighborsClassifier\n",
    "from sklearn.decomposition import PCA\n",
    "from sklearn.preprocessing import scale\n",
    "from sklearn.pipeline import Pipeline\n",
    "\n",
    "\n",
    "\n",
    "plt.style.use('ggplot')\n",
    "%matplotlib inline"
   ]
  },
  {
   "cell_type": "code",
   "execution_count": 2,
   "metadata": {
    "collapsed": false
   },
   "outputs": [
    {
     "data": {
      "text/html": [
       "<div>\n",
       "<table border=\"1\" class=\"dataframe\">\n",
       "  <thead>\n",
       "    <tr style=\"text-align: right;\">\n",
       "      <th></th>\n",
       "      <th>TripType</th>\n",
       "      <th>VisitNumber</th>\n",
       "      <th>Weekday</th>\n",
       "      <th>Upc</th>\n",
       "      <th>ScanCount</th>\n",
       "      <th>DepartmentDescription</th>\n",
       "      <th>FinelineNumber</th>\n",
       "    </tr>\n",
       "  </thead>\n",
       "  <tbody>\n",
       "    <tr>\n",
       "      <th>0</th>\n",
       "      <td>999</td>\n",
       "      <td>5</td>\n",
       "      <td>Friday</td>\n",
       "      <td>6.811315e+10</td>\n",
       "      <td>-1</td>\n",
       "      <td>FINANCIAL SERVICES</td>\n",
       "      <td>1000.0</td>\n",
       "    </tr>\n",
       "    <tr>\n",
       "      <th>1</th>\n",
       "      <td>30</td>\n",
       "      <td>7</td>\n",
       "      <td>Friday</td>\n",
       "      <td>6.053882e+10</td>\n",
       "      <td>1</td>\n",
       "      <td>SHOES</td>\n",
       "      <td>8931.0</td>\n",
       "    </tr>\n",
       "    <tr>\n",
       "      <th>2</th>\n",
       "      <td>30</td>\n",
       "      <td>7</td>\n",
       "      <td>Friday</td>\n",
       "      <td>7.410811e+09</td>\n",
       "      <td>1</td>\n",
       "      <td>PERSONAL CARE</td>\n",
       "      <td>4504.0</td>\n",
       "    </tr>\n",
       "    <tr>\n",
       "      <th>3</th>\n",
       "      <td>26</td>\n",
       "      <td>8</td>\n",
       "      <td>Friday</td>\n",
       "      <td>2.238404e+09</td>\n",
       "      <td>2</td>\n",
       "      <td>PAINT AND ACCESSORIES</td>\n",
       "      <td>3565.0</td>\n",
       "    </tr>\n",
       "    <tr>\n",
       "      <th>4</th>\n",
       "      <td>26</td>\n",
       "      <td>8</td>\n",
       "      <td>Friday</td>\n",
       "      <td>2.006614e+09</td>\n",
       "      <td>2</td>\n",
       "      <td>PAINT AND ACCESSORIES</td>\n",
       "      <td>1017.0</td>\n",
       "    </tr>\n",
       "  </tbody>\n",
       "</table>\n",
       "</div>"
      ],
      "text/plain": [
       "   TripType  VisitNumber Weekday           Upc  ScanCount  \\\n",
       "0       999            5  Friday  6.811315e+10         -1   \n",
       "1        30            7  Friday  6.053882e+10          1   \n",
       "2        30            7  Friday  7.410811e+09          1   \n",
       "3        26            8  Friday  2.238404e+09          2   \n",
       "4        26            8  Friday  2.006614e+09          2   \n",
       "\n",
       "   DepartmentDescription  FinelineNumber  \n",
       "0     FINANCIAL SERVICES          1000.0  \n",
       "1                  SHOES          8931.0  \n",
       "2          PERSONAL CARE          4504.0  \n",
       "3  PAINT AND ACCESSORIES          3565.0  \n",
       "4  PAINT AND ACCESSORIES          1017.0  "
      ]
     },
     "execution_count": 2,
     "metadata": {},
     "output_type": "execute_result"
    }
   ],
   "source": [
    "data = pd.read_csv(\"data/train.csv\")\n",
    "data.head()"
   ]
  },
  {
   "cell_type": "code",
   "execution_count": 3,
   "metadata": {
    "collapsed": false
   },
   "outputs": [
    {
     "data": {
      "text/plain": [
       "TripType                 647054\n",
       "VisitNumber              647054\n",
       "Weekday                  647054\n",
       "Upc                      642925\n",
       "ScanCount                647054\n",
       "DepartmentDescription    645693\n",
       "FinelineNumber           642925\n",
       "dtype: int64"
      ]
     },
     "execution_count": 3,
     "metadata": {},
     "output_type": "execute_result"
    }
   ],
   "source": [
    "data.count()"
   ]
  },
  {
   "cell_type": "code",
   "execution_count": 4,
   "metadata": {
    "collapsed": false
   },
   "outputs": [
    {
     "name": "stdout",
     "output_type": "stream",
     "text": [
      "4129\n",
      "0.006381229387346342\n"
     ]
    }
   ],
   "source": [
    "print(647054-642925)\n",
    "print(4129/647054)"
   ]
  },
  {
   "cell_type": "markdown",
   "metadata": {},
   "source": [
    "Podemos ver que hay 4129 filas que se encuentran vacías y representan al rededor .6 % y podemos remover "
   ]
  },
  {
   "cell_type": "code",
   "execution_count": 5,
   "metadata": {
    "collapsed": false
   },
   "outputs": [
    {
     "data": {
      "text/plain": [
       "38"
      ]
     },
     "execution_count": 5,
     "metadata": {},
     "output_type": "execute_result"
    }
   ],
   "source": [
    "len(data.TripType.unique())"
   ]
  },
  {
   "cell_type": "markdown",
   "metadata": {},
   "source": [
    "## Sección 2. Limpieza y Transformación de Datos"
   ]
  },
  {
   "cell_type": "code",
   "execution_count": 6,
   "metadata": {
    "collapsed": false,
    "scrolled": true
   },
   "outputs": [
    {
     "data": {
      "text/html": [
       "<div>\n",
       "<table border=\"1\" class=\"dataframe\">\n",
       "  <thead>\n",
       "    <tr style=\"text-align: right;\">\n",
       "      <th></th>\n",
       "      <th>TripType</th>\n",
       "      <th>VisitNumber</th>\n",
       "      <th>Weekday</th>\n",
       "      <th>Upc</th>\n",
       "      <th>ScanCount</th>\n",
       "      <th>DepartmentDescription</th>\n",
       "      <th>FinelineNumber</th>\n",
       "    </tr>\n",
       "  </thead>\n",
       "  <tbody>\n",
       "    <tr>\n",
       "      <th>0</th>\n",
       "      <td>999</td>\n",
       "      <td>5</td>\n",
       "      <td>Friday</td>\n",
       "      <td>6.811315e+10</td>\n",
       "      <td>-1</td>\n",
       "      <td>FINANCIAL SERVICES</td>\n",
       "      <td>1000.0</td>\n",
       "    </tr>\n",
       "    <tr>\n",
       "      <th>1</th>\n",
       "      <td>30</td>\n",
       "      <td>7</td>\n",
       "      <td>Friday</td>\n",
       "      <td>6.053882e+10</td>\n",
       "      <td>1</td>\n",
       "      <td>SHOES</td>\n",
       "      <td>8931.0</td>\n",
       "    </tr>\n",
       "    <tr>\n",
       "      <th>2</th>\n",
       "      <td>30</td>\n",
       "      <td>7</td>\n",
       "      <td>Friday</td>\n",
       "      <td>7.410811e+09</td>\n",
       "      <td>1</td>\n",
       "      <td>PERSONAL CARE</td>\n",
       "      <td>4504.0</td>\n",
       "    </tr>\n",
       "    <tr>\n",
       "      <th>3</th>\n",
       "      <td>26</td>\n",
       "      <td>8</td>\n",
       "      <td>Friday</td>\n",
       "      <td>2.238404e+09</td>\n",
       "      <td>2</td>\n",
       "      <td>PAINT AND ACCESSORIES</td>\n",
       "      <td>3565.0</td>\n",
       "    </tr>\n",
       "    <tr>\n",
       "      <th>4</th>\n",
       "      <td>26</td>\n",
       "      <td>8</td>\n",
       "      <td>Friday</td>\n",
       "      <td>2.006614e+09</td>\n",
       "      <td>2</td>\n",
       "      <td>PAINT AND ACCESSORIES</td>\n",
       "      <td>1017.0</td>\n",
       "    </tr>\n",
       "  </tbody>\n",
       "</table>\n",
       "</div>"
      ],
      "text/plain": [
       "   TripType  VisitNumber Weekday           Upc  ScanCount  \\\n",
       "0       999            5  Friday  6.811315e+10         -1   \n",
       "1        30            7  Friday  6.053882e+10          1   \n",
       "2        30            7  Friday  7.410811e+09          1   \n",
       "3        26            8  Friday  2.238404e+09          2   \n",
       "4        26            8  Friday  2.006614e+09          2   \n",
       "\n",
       "   DepartmentDescription  FinelineNumber  \n",
       "0     FINANCIAL SERVICES          1000.0  \n",
       "1                  SHOES          8931.0  \n",
       "2          PERSONAL CARE          4504.0  \n",
       "3  PAINT AND ACCESSORIES          3565.0  \n",
       "4  PAINT AND ACCESSORIES          1017.0  "
      ]
     },
     "execution_count": 6,
     "metadata": {},
     "output_type": "execute_result"
    }
   ],
   "source": [
    "#Primero vamos a importar la base de train y la base de test\n",
    "#Vamos a imprimir un head de 5 observaciones de cada uno para ver como luce la tabla\n",
    "\n",
    "#Base de train\n",
    "train = pd.read_csv(\"data/train.csv\")\n",
    "train.head(5)"
   ]
  },
  {
   "cell_type": "code",
   "execution_count": 7,
   "metadata": {
    "collapsed": false
   },
   "outputs": [
    {
     "data": {
      "text/html": [
       "<div>\n",
       "<table border=\"1\" class=\"dataframe\">\n",
       "  <thead>\n",
       "    <tr style=\"text-align: right;\">\n",
       "      <th></th>\n",
       "      <th>VisitNumber</th>\n",
       "      <th>Weekday</th>\n",
       "      <th>Upc</th>\n",
       "      <th>ScanCount</th>\n",
       "      <th>DepartmentDescription</th>\n",
       "      <th>FinelineNumber</th>\n",
       "    </tr>\n",
       "  </thead>\n",
       "  <tbody>\n",
       "    <tr>\n",
       "      <th>0</th>\n",
       "      <td>1</td>\n",
       "      <td>Friday</td>\n",
       "      <td>7.250339e+10</td>\n",
       "      <td>1</td>\n",
       "      <td>SHOES</td>\n",
       "      <td>3002.0</td>\n",
       "    </tr>\n",
       "    <tr>\n",
       "      <th>1</th>\n",
       "      <td>1</td>\n",
       "      <td>Friday</td>\n",
       "      <td>1.707711e+09</td>\n",
       "      <td>1</td>\n",
       "      <td>DAIRY</td>\n",
       "      <td>1526.0</td>\n",
       "    </tr>\n",
       "    <tr>\n",
       "      <th>2</th>\n",
       "      <td>1</td>\n",
       "      <td>Friday</td>\n",
       "      <td>8.947000e+10</td>\n",
       "      <td>1</td>\n",
       "      <td>DAIRY</td>\n",
       "      <td>1431.0</td>\n",
       "    </tr>\n",
       "    <tr>\n",
       "      <th>3</th>\n",
       "      <td>1</td>\n",
       "      <td>Friday</td>\n",
       "      <td>8.849121e+10</td>\n",
       "      <td>1</td>\n",
       "      <td>GROCERY DRY GOODS</td>\n",
       "      <td>3555.0</td>\n",
       "    </tr>\n",
       "    <tr>\n",
       "      <th>4</th>\n",
       "      <td>2</td>\n",
       "      <td>Friday</td>\n",
       "      <td>2.840015e+09</td>\n",
       "      <td>1</td>\n",
       "      <td>DSD GROCERY</td>\n",
       "      <td>4408.0</td>\n",
       "    </tr>\n",
       "  </tbody>\n",
       "</table>\n",
       "</div>"
      ],
      "text/plain": [
       "   VisitNumber Weekday           Upc  ScanCount DepartmentDescription  \\\n",
       "0            1  Friday  7.250339e+10          1                 SHOES   \n",
       "1            1  Friday  1.707711e+09          1                 DAIRY   \n",
       "2            1  Friday  8.947000e+10          1                 DAIRY   \n",
       "3            1  Friday  8.849121e+10          1     GROCERY DRY GOODS   \n",
       "4            2  Friday  2.840015e+09          1           DSD GROCERY   \n",
       "\n",
       "   FinelineNumber  \n",
       "0          3002.0  \n",
       "1          1526.0  \n",
       "2          1431.0  \n",
       "3          3555.0  \n",
       "4          4408.0  "
      ]
     },
     "execution_count": 7,
     "metadata": {},
     "output_type": "execute_result"
    }
   ],
   "source": [
    "#Base de test\n",
    "test = pd.read_csv(\"data/test.csv\")\n",
    "test.head(5)"
   ]
  },
  {
   "cell_type": "markdown",
   "metadata": {},
   "source": [
    "### Funciones"
   ]
  },
  {
   "cell_type": "markdown",
   "metadata": {},
   "source": [
    "Vamos a definir dos funciones que no permitiran hacer \"wrangling\" y \"engineering\" a los datasets.\n",
    "Estas funciones realizan lo siguiente:\n",
    "(Falta explicar las funciones)\n",
    "\n",
    "Las dos funciones existen tanto para train, como para test."
   ]
  },
  {
   "cell_type": "code",
   "execution_count": 8,
   "metadata": {
    "collapsed": true
   },
   "outputs": [],
   "source": [
    "def feature_engineering_train(data):\n",
    "    \"Funcion para hacer engineering al dataset\"\n",
    "    #Cambiando nombres a las columnas\n",
    "    data.columns = [\"tipo_viaje\", \"ticket\", \"dia\", \"codigo_barras\", \"items_comprados\",\n",
    "           \"departamento\",\"categoria_walmart\"]\n",
    "    #Creando columna de devolucion\n",
    "    data.loc[data.items_comprados < 0, 'devolucion'] = 1\n",
    "    data.loc[data.devolucion != 1, 'devolucion'] = 0\n",
    "    \n",
    "    #Creando dummies de departamento\n",
    "    data = pd.get_dummies(data, columns = [\"departamento\"])\n",
    "    \n",
    "    #Creando dummies de los dias\n",
    "    dias = [\"Monday\",\"Tuesday\",\"Wednesday\",\"Thursday\", \"Friday\", \"Saturday\", \"Sunday\"]\n",
    "    data.dia = data.dia.astype(\"category\", ordered=True, categories = dias).cat.codes\n",
    "    \n",
    "    #Agregando suma de los items al dataframe\n",
    "    data_dummies = data.iloc[:,7:]\n",
    "    data_dummies = data_dummies.apply(lambda x: x*data[\"items_comprados\"])\n",
    "    data_dummies = data_dummies.replace(-0,0)\n",
    "    \n",
    "    #Juntando base\n",
    "    data = data[[\"tipo_viaje\", \"ticket\", \"dia\", \"items_comprados\", \"devolucion\"]]\n",
    "    data = pd.concat([data, data_dummies], axis=1)\n",
    "    \n",
    "    #Creando dummies tipo de viajes\n",
    "    data.tipo_viaje = data.tipo_viaje.astype(\"category\").cat.codes\n",
    "    \n",
    "    #Agrupando base\n",
    "    aggregation = {'tipo_viaje':np.max,'dia': np.max, 'items_comprados': np.sum, 'devolucion': np.max,\n",
    "                   'departamento_1-HR PHOTO': np.sum,\n",
    "       'departamento_ACCESSORIES': np.sum, 'departamento_AUTOMOTIVE': np.sum,\n",
    "       'departamento_BAKERY': np.sum, 'departamento_BATH AND SHOWER': np.sum,\n",
    "       'departamento_BEAUTY': np.sum, 'departamento_BEDDING': np.sum,\n",
    "       'departamento_BOOKS AND MAGAZINES': np.sum, 'departamento_BOYS WEAR': np.sum,\n",
    "       'departamento_BRAS & SHAPEWEAR': np.sum, 'departamento_CAMERAS AND SUPPLIES': np.sum,\n",
    "       'departamento_CANDY, TOBACCO, COOKIES': np.sum, 'departamento_CELEBRATION': np.sum,\n",
    "       'departamento_COMM BREAD': np.sum, 'departamento_CONCEPT STORES': np.sum,\n",
    "       'departamento_COOK AND DINE': np.sum, 'departamento_DAIRY': np.sum,\n",
    "       'departamento_DSD GROCERY': np.sum, 'departamento_ELECTRONICS': np.sum,\n",
    "       'departamento_FABRICS AND CRAFTS': np.sum, 'departamento_FINANCIAL SERVICES': np.sum,\n",
    "       'departamento_FROZEN FOODS': np.sum, 'departamento_FURNITURE': np.sum,\n",
    "       'departamento_GIRLS WEAR, 4-6X  AND 7-14': np.sum,\n",
    "       'departamento_GROCERY DRY GOODS': np.sum, 'departamento_HARDWARE': np.sum,'departamento_HOME DECOR': np.sum,\n",
    "       'departamento_HOME MANAGEMENT': np.sum, 'departamento_HORTICULTURE AND ACCESS': np.sum,\n",
    "       'departamento_HOUSEHOLD CHEMICALS/SUPP': np.sum,\n",
    "       'departamento_HOUSEHOLD PAPER GOODS': np.sum,\n",
    "       'departamento_IMPULSE MERCHANDISE': np.sum, 'departamento_INFANT APPAREL': np.sum,\n",
    "       'departamento_INFANT CONSUMABLE HARDLINES': np.sum,\n",
    "       'departamento_JEWELRY AND SUNGLASSES': np.sum, 'departamento_LADIES SOCKS': np.sum,\n",
    "       'departamento_LADIESWEAR': np.sum, 'departamento_LARGE HOUSEHOLD GOODS': np.sum,\n",
    "       'departamento_LAWN AND GARDEN': np.sum, 'departamento_LIQUOR,WINE,BEER': np.sum,\n",
    "       'departamento_MEAT - FRESH & FROZEN': np.sum, 'departamento_MEDIA AND GAMING': np.sum,\n",
    "       'departamento_MENS WEAR': np.sum, 'departamento_MENSWEAR': np.sum,\n",
    "       'departamento_OFFICE SUPPLIES': np.sum, 'departamento_OPTICAL - FRAMES': np.sum,\n",
    "       'departamento_OPTICAL - LENSES': np.sum, 'departamento_OTHER DEPARTMENTS': np.sum,\n",
    "       'departamento_PAINT AND ACCESSORIES': np.sum, 'departamento_PERSONAL CARE': np.sum,\n",
    "       'departamento_PETS AND SUPPLIES': np.sum, 'departamento_PHARMACY OTC': np.sum,\n",
    "       'departamento_PHARMACY RX': np.sum, 'departamento_PLAYERS AND ELECTRONICS': np.sum,\n",
    "       'departamento_PLUS AND MATERNITY': np.sum, 'departamento_PRE PACKED DELI': np.sum,\n",
    "       'departamento_PRODUCE': np.sum, 'departamento_SEAFOOD': np.sum, 'departamento_SEASONAL': np.sum,\n",
    "       'departamento_SERVICE DELI': np.sum, 'departamento_SHEER HOSIERY': np.sum,\n",
    "       'departamento_SHOES': np.sum, 'departamento_SLEEPWEAR/FOUNDATIONS': np.sum,\n",
    "       'departamento_SPORTING GOODS': np.sum, 'departamento_SWIMWEAR/OUTERWEAR': np.sum,\n",
    "       'departamento_TOYS': np.sum, 'departamento_WIRELESS': np.sum}\n",
    "    \n",
    "    grouped = data.groupby(\"ticket\")\n",
    "    grouped = grouped.agg(aggregation)\n",
    "    \n",
    "    data = grouped[['tipo_viaje','dia','items_comprados','devolucion','departamento_DSD GROCERY', 'departamento_FURNITURE',\n",
    "       'departamento_1-HR PHOTO','departamento_HOUSEHOLD PAPER GOODS', 'departamento_OPTICAL - FRAMES',\n",
    "       'departamento_BOOKS AND MAGAZINES',\n",
    "       'departamento_CANDY, TOBACCO, COOKIES', \n",
    "       'departamento_LADIESWEAR', 'departamento_OFFICE SUPPLIES',\n",
    "       'departamento_BEAUTY', 'departamento_PLUS AND MATERNITY',\n",
    "       'departamento_PRE PACKED DELI', 'departamento_BAKERY',\n",
    "       'departamento_PHARMACY RX', 'departamento_MENS WEAR',\n",
    "       'departamento_TOYS', 'departamento_GROCERY DRY GOODS',\n",
    "       'departamento_LADIES SOCKS', 'departamento_PRODUCE',\n",
    "       'departamento_SWIMWEAR/OUTERWEAR',\n",
    "       'departamento_PLAYERS AND ELECTRONICS',\n",
    "       'departamento_MEAT - FRESH & FROZEN', 'departamento_PETS AND SUPPLIES',\n",
    "       'departamento_CELEBRATION', 'departamento_INFANT APPAREL',\n",
    "       'departamento_HOUSEHOLD CHEMICALS/SUPP', 'departamento_LAWN AND GARDEN',\n",
    "       'departamento_DAIRY', 'departamento_ACCESSORIES',\n",
    "       'departamento_BATH AND SHOWER',\n",
    "       'departamento_INFANT CONSUMABLE HARDLINES',\n",
    "       'departamento_LIQUOR,WINE,BEER', 'departamento_LARGE HOUSEHOLD GOODS',\n",
    "       'departamento_MEDIA AND GAMING', 'departamento_AUTOMOTIVE',\n",
    "       'departamento_PERSONAL CARE', 'departamento_HOME DECOR',\n",
    "       'departamento_CAMERAS AND SUPPLIES', 'departamento_SERVICE DELI',\n",
    "       'departamento_OPTICAL - LENSES', 'departamento_HARDWARE',\n",
    "       'departamento_GIRLS WEAR, 4-6X  AND 7-14',\n",
    "       'departamento_HOME MANAGEMENT', 'departamento_BEDDING',\n",
    "       'departamento_MENSWEAR', 'departamento_BOYS WEAR',\n",
    "       'departamento_PHARMACY OTC', 'departamento_SEASONAL',\n",
    "       'departamento_JEWELRY AND SUNGLASSES',\n",
    "       'departamento_FINANCIAL SERVICES', 'departamento_SHEER HOSIERY',\n",
    "       'departamento_COMM BREAD', 'departamento_SEAFOOD',\n",
    "       'departamento_BRAS & SHAPEWEAR', 'departamento_SLEEPWEAR/FOUNDATIONS',\n",
    "       'departamento_SPORTING GOODS', 'departamento_COOK AND DINE',\n",
    "       'departamento_CONCEPT STORES', 'departamento_FABRICS AND CRAFTS',\n",
    "       'departamento_HORTICULTURE AND ACCESS',\n",
    "       'departamento_OTHER DEPARTMENTS', 'departamento_ELECTRONICS',\n",
    "       'departamento_PAINT AND ACCESSORIES', 'departamento_FROZEN FOODS',\n",
    "       'departamento_WIRELESS', 'departamento_SHOES',\n",
    "       'departamento_IMPULSE MERCHANDISE']]\n",
    "    \n",
    "    return data"
   ]
  },
  {
   "cell_type": "code",
   "execution_count": 9,
   "metadata": {
    "collapsed": true
   },
   "outputs": [],
   "source": [
    "def feature_engineering_test(data):\n",
    "    \"Funcion para hacer engineering al dataset\"\n",
    "    #Cambiando nombres a las columnas\n",
    "    data.columns = [\"ticket\", \"dia\", \"codigo_barras\", \"items_comprados\",\n",
    "           \"departamento\",\"categoria_walmart\"]\n",
    "    #Creando columna de devolucion\n",
    "    data.loc[data.items_comprados < 0, 'devolucion'] = 1\n",
    "    data.loc[data.devolucion != 1, 'devolucion'] = 0\n",
    "    \n",
    "    #Creando dummies de departamento\n",
    "    data = pd.get_dummies(data, columns = [\"departamento\"])\n",
    "    \n",
    "    #Creando dummies de los dias\n",
    "    dias = [\"Monday\",\"Tuesday\",\"Wednesday\",\"Thursday\", \"Friday\", \"Saturday\", \"Sunday\"]\n",
    "    data.dia = data.dia.astype(\"category\", ordered=True, categories = dias).cat.codes\n",
    "    \n",
    "    #Agregando suma de los items al dataframe\n",
    "    data_dummies = data.iloc[:,6:]\n",
    "    data_dummies = data_dummies.apply(lambda x: x*data[\"items_comprados\"])\n",
    "    data_dummies = data_dummies.replace(-0,0)\n",
    "    \n",
    "    #Juntando base\n",
    "    data = data[[\"ticket\",\"dia\", \"items_comprados\", \"devolucion\"]]\n",
    "    data = pd.concat([data, data_dummies], axis=1)\n",
    "\n",
    "    \n",
    "    #Agrupando base\n",
    "    aggregation = {'dia': np.max, 'items_comprados': np.sum, 'devolucion': np.max,\n",
    "                   'departamento_1-HR PHOTO': np.sum,\n",
    "       'departamento_ACCESSORIES': np.sum, 'departamento_AUTOMOTIVE': np.sum,\n",
    "       'departamento_BAKERY': np.sum, 'departamento_BATH AND SHOWER': np.sum,\n",
    "       'departamento_BEAUTY': np.sum, 'departamento_BEDDING': np.sum,\n",
    "       'departamento_BOOKS AND MAGAZINES': np.sum, 'departamento_BOYS WEAR': np.sum,\n",
    "       'departamento_BRAS & SHAPEWEAR': np.sum, 'departamento_CAMERAS AND SUPPLIES': np.sum,\n",
    "       'departamento_CANDY, TOBACCO, COOKIES': np.sum, 'departamento_CELEBRATION': np.sum,\n",
    "       'departamento_COMM BREAD': np.sum, 'departamento_CONCEPT STORES': np.sum,\n",
    "       'departamento_COOK AND DINE': np.sum, 'departamento_DAIRY': np.sum,\n",
    "       'departamento_DSD GROCERY': np.sum, 'departamento_ELECTRONICS': np.sum,\n",
    "       'departamento_FABRICS AND CRAFTS': np.sum, 'departamento_FINANCIAL SERVICES': np.sum,\n",
    "       'departamento_FROZEN FOODS': np.sum, 'departamento_FURNITURE': np.sum,\n",
    "       'departamento_GIRLS WEAR, 4-6X  AND 7-14': np.sum,\n",
    "       'departamento_GROCERY DRY GOODS': np.sum, 'departamento_HARDWARE': np.sum,'departamento_HOME DECOR': np.sum,\n",
    "       'departamento_HOME MANAGEMENT': np.sum, 'departamento_HORTICULTURE AND ACCESS': np.sum,\n",
    "       'departamento_HOUSEHOLD CHEMICALS/SUPP': np.sum,\n",
    "       'departamento_HOUSEHOLD PAPER GOODS': np.sum,\n",
    "       'departamento_IMPULSE MERCHANDISE': np.sum, 'departamento_INFANT APPAREL': np.sum,\n",
    "       'departamento_INFANT CONSUMABLE HARDLINES': np.sum,\n",
    "       'departamento_JEWELRY AND SUNGLASSES': np.sum, 'departamento_LADIES SOCKS': np.sum,\n",
    "       'departamento_LADIESWEAR': np.sum, 'departamento_LARGE HOUSEHOLD GOODS': np.sum,\n",
    "       'departamento_LAWN AND GARDEN': np.sum, 'departamento_LIQUOR,WINE,BEER': np.sum,\n",
    "       'departamento_MEAT - FRESH & FROZEN': np.sum, 'departamento_MEDIA AND GAMING': np.sum,\n",
    "       'departamento_MENS WEAR': np.sum, 'departamento_MENSWEAR': np.sum,\n",
    "       'departamento_OFFICE SUPPLIES': np.sum, 'departamento_OPTICAL - FRAMES': np.sum,\n",
    "       'departamento_OPTICAL - LENSES': np.sum, 'departamento_OTHER DEPARTMENTS': np.sum,\n",
    "       'departamento_PAINT AND ACCESSORIES': np.sum, 'departamento_PERSONAL CARE': np.sum,\n",
    "       'departamento_PETS AND SUPPLIES': np.sum, 'departamento_PHARMACY OTC': np.sum,\n",
    "       'departamento_PHARMACY RX': np.sum, 'departamento_PLAYERS AND ELECTRONICS': np.sum,\n",
    "       'departamento_PLUS AND MATERNITY': np.sum, 'departamento_PRE PACKED DELI': np.sum,\n",
    "       'departamento_PRODUCE': np.sum, 'departamento_SEAFOOD': np.sum, 'departamento_SEASONAL': np.sum,\n",
    "       'departamento_SERVICE DELI': np.sum, 'departamento_SHEER HOSIERY': np.sum,\n",
    "       'departamento_SHOES': np.sum, 'departamento_SLEEPWEAR/FOUNDATIONS': np.sum,\n",
    "       'departamento_SPORTING GOODS': np.sum, 'departamento_SWIMWEAR/OUTERWEAR': np.sum,\n",
    "       'departamento_TOYS': np.sum, 'departamento_WIRELESS': np.sum}\n",
    "    \n",
    "    grouped = data.groupby(\"ticket\")\n",
    "    grouped = grouped.agg(aggregation)\n",
    "    \n",
    "    data = grouped[['dia','items_comprados','devolucion','departamento_DSD GROCERY', 'departamento_FURNITURE',\n",
    "       'departamento_1-HR PHOTO','departamento_HOUSEHOLD PAPER GOODS', 'departamento_OPTICAL - FRAMES',\n",
    "       'departamento_BOOKS AND MAGAZINES',\n",
    "       'departamento_CANDY, TOBACCO, COOKIES', \n",
    "       'departamento_LADIESWEAR', 'departamento_OFFICE SUPPLIES',\n",
    "       'departamento_BEAUTY', 'departamento_PLUS AND MATERNITY',\n",
    "       'departamento_PRE PACKED DELI', 'departamento_BAKERY',\n",
    "       'departamento_PHARMACY RX', 'departamento_MENS WEAR',\n",
    "       'departamento_TOYS', 'departamento_GROCERY DRY GOODS',\n",
    "       'departamento_LADIES SOCKS', 'departamento_PRODUCE',\n",
    "       'departamento_SWIMWEAR/OUTERWEAR',\n",
    "       'departamento_PLAYERS AND ELECTRONICS',\n",
    "       'departamento_MEAT - FRESH & FROZEN', 'departamento_PETS AND SUPPLIES',\n",
    "       'departamento_CELEBRATION', 'departamento_INFANT APPAREL',\n",
    "       'departamento_HOUSEHOLD CHEMICALS/SUPP', 'departamento_LAWN AND GARDEN',\n",
    "       'departamento_DAIRY', 'departamento_ACCESSORIES',\n",
    "       'departamento_BATH AND SHOWER',\n",
    "       'departamento_INFANT CONSUMABLE HARDLINES',\n",
    "       'departamento_LIQUOR,WINE,BEER', 'departamento_LARGE HOUSEHOLD GOODS',\n",
    "       'departamento_MEDIA AND GAMING', 'departamento_AUTOMOTIVE',\n",
    "       'departamento_PERSONAL CARE', 'departamento_HOME DECOR',\n",
    "       'departamento_CAMERAS AND SUPPLIES', 'departamento_SERVICE DELI',\n",
    "       'departamento_OPTICAL - LENSES', 'departamento_HARDWARE',\n",
    "       'departamento_GIRLS WEAR, 4-6X  AND 7-14',\n",
    "       'departamento_HOME MANAGEMENT', 'departamento_BEDDING',\n",
    "       'departamento_MENSWEAR', 'departamento_BOYS WEAR',\n",
    "       'departamento_PHARMACY OTC', 'departamento_SEASONAL',\n",
    "       'departamento_JEWELRY AND SUNGLASSES',\n",
    "       'departamento_FINANCIAL SERVICES', 'departamento_SHEER HOSIERY',\n",
    "       'departamento_COMM BREAD', 'departamento_SEAFOOD',\n",
    "       'departamento_BRAS & SHAPEWEAR', 'departamento_SLEEPWEAR/FOUNDATIONS',\n",
    "       'departamento_SPORTING GOODS', 'departamento_COOK AND DINE',\n",
    "       'departamento_CONCEPT STORES', 'departamento_FABRICS AND CRAFTS',\n",
    "       'departamento_HORTICULTURE AND ACCESS',\n",
    "       'departamento_OTHER DEPARTMENTS', 'departamento_ELECTRONICS',\n",
    "       'departamento_PAINT AND ACCESSORIES', 'departamento_FROZEN FOODS',\n",
    "       'departamento_WIRELESS', 'departamento_SHOES',\n",
    "       'departamento_IMPULSE MERCHANDISE']]\n",
    "    \n",
    "    return data"
   ]
  },
  {
   "cell_type": "markdown",
   "metadata": {},
   "source": [
    "Funcion para contar el numero de categorias que involucra cada ticket.\n",
    "Esta funcion existe tanto para train como para test."
   ]
  },
  {
   "cell_type": "code",
   "execution_count": 10,
   "metadata": {
    "collapsed": true
   },
   "outputs": [],
   "source": [
    "# para cada fila a partir de la columna 4, suma uno por cada tipo de producto comprado en una lista y lo apendea en una lista\n",
    "def category_count_train(data):\n",
    "    alist = []\n",
    "    for array in np.asarray(data.iloc[:,4:]):\n",
    "        count = 0\n",
    "        for item in array:\n",
    "            if item > 0:\n",
    "                count += 1\n",
    "        alist.append(count)\n",
    "    cat_counts = pd.DataFrame(alist)\n",
    "    cat_counts = cat_counts.rename(columns={0:\"total_tipo_productos\"})\n",
    "    cat_counts = cat_counts.set_index(data.index)\n",
    "    data.insert(4, 'total_categorias_compradas', cat_counts)\n",
    "    \n",
    "    return data"
   ]
  },
  {
   "cell_type": "code",
   "execution_count": 11,
   "metadata": {
    "collapsed": true
   },
   "outputs": [],
   "source": [
    "# para cada fila a partir de la columna 4, suma uno por cada tipo de producto comprado en una lista y lo apendea en una lista\n",
    "def category_count_test(data):\n",
    "    alist = []\n",
    "    for array in np.asarray(data.iloc[:,3:]):\n",
    "        count = 0\n",
    "        for item in array:\n",
    "            if item > 0:\n",
    "                count += 1\n",
    "        alist.append(count)\n",
    "    cat_counts = pd.DataFrame(alist)\n",
    "    cat_counts = cat_counts.rename(columns={0:\"total_tipo_productos\"})\n",
    "    cat_counts = cat_counts.set_index(data.index)\n",
    "    data.insert(3, 'total_categorias_compradas', cat_counts)\n",
    "    \n",
    "    return data"
   ]
  },
  {
   "cell_type": "code",
   "execution_count": 12,
   "metadata": {
    "collapsed": true
   },
   "outputs": [],
   "source": [
    "#Aplicamos las dos funciones al train\n",
    "train = feature_engineering_train(train)\n",
    "train = category_count_train(train)"
   ]
  },
  {
   "cell_type": "code",
   "execution_count": 13,
   "metadata": {
    "collapsed": true
   },
   "outputs": [],
   "source": [
    "#Aplicamos las dos funciones al test\n",
    "test = feature_engineering_test(test)\n",
    "test = category_count_test(test)"
   ]
  },
  {
   "cell_type": "code",
   "execution_count": 14,
   "metadata": {
    "collapsed": false
   },
   "outputs": [
    {
     "name": "stdout",
     "output_type": "stream",
     "text": [
      "(95674, 72)\n",
      "(95674, 71)\n"
     ]
    }
   ],
   "source": [
    "#Si imprimimos el shape de cada base, vemos que el test tiene una columna menos\n",
    "#Esta columna menos es la variable a predecir train\n",
    "print(train.shape)\n",
    "print(test.shape)"
   ]
  },
  {
   "cell_type": "markdown",
   "metadata": {},
   "source": [
    "De esta manera ya tenemos listas nuestras dos bases. Tanto nuestra base de <b>train</b>, donde modelaremos, hasta nuestra\n",
    "base de <b>test</b>, donde haremos prediccion y generaremos un \"submission\" para la plataforma de Kaggle."
   ]
  },
  {
   "cell_type": "markdown",
   "metadata": {},
   "source": [
    "### 3. Modelado"
   ]
  },
  {
   "cell_type": "markdown",
   "metadata": {},
   "source": [
    "#### Vamos a crear las bases de train y test antes del modelado"
   ]
  },
  {
   "cell_type": "code",
   "execution_count": 15,
   "metadata": {
    "collapsed": false
   },
   "outputs": [],
   "source": [
    "from sklearn.cross_validation import train_test_split\n",
    "from sklearn.linear_model import LogisticRegression\n",
    "from sklearn.metrics import log_loss\n",
    "from sklearn.metrics import accuracy_score"
   ]
  },
  {
   "cell_type": "code",
   "execution_count": 46,
   "metadata": {
    "collapsed": false
   },
   "outputs": [],
   "source": [
    "#Separamos la base de datos original de train en train y test nuevamente \n",
    "train_2,test_2 = train_test_split(train, test_size=0.3)"
   ]
  },
  {
   "cell_type": "code",
   "execution_count": 48,
   "metadata": {
    "collapsed": false
   },
   "outputs": [],
   "source": [
    "#Vamos a separar las variables explicativas(x`s) y la variable a predecir(y) en las dos bases\n",
    "\n",
    "#Base de train\n",
    "y_train = train_2[\"tipo_viaje\"]\n",
    "x_train = train_2.drop(\"tipo_viaje\", axis=1).values.astype(float)\n",
    "\n",
    "#Base de test\n",
    "y_test = test_2[\"tipo_viaje\"]\n",
    "x_test = test_2.drop(\"tipo_viaje\", axis=1).values.astype(float)"
   ]
  },
  {
   "cell_type": "markdown",
   "metadata": {},
   "source": [
    "### Regresión Logística"
   ]
  },
  {
   "cell_type": "code",
   "execution_count": 49,
   "metadata": {
    "collapsed": false
   },
   "outputs": [
    {
     "name": "stdout",
     "output_type": "stream",
     "text": [
      "Porcentaje de Pérdida Logarítmica: 1.28253\n",
      "Resultado de Precisión del Modelo: 0.6402118245479567\n"
     ]
    }
   ],
   "source": [
    "#Vamos a plicar regresion logistica y predecimos en cross-validation\n",
    "#A este modelo lo llamaremos modelo_1\n",
    "LR = LogisticRegression()\n",
    "LR.fit(X = np.asarray(x_train), y = np.asarray(y_train))\n",
    "\n",
    "pred_prob = LR.predict_proba(np.asarray(x_test))\n",
    "pred_noprob = LR.predict(np.asarray(x_test))\n",
    "\n",
    "print(\"Porcentaje de Pérdida Logarítmica: {}\".format(log_loss(y_test, pred_prob).round(5)))\n",
    "print(\"Resultado de Precisión del Modelo: {}\".format(accuracy_score(y_test, pred_noprob)))"
   ]
  },
  {
   "cell_type": "markdown",
   "metadata": {},
   "source": [
    "Podemos ver que nuestro modelo tiene una precicision de ~<b>65%</b> en el cross-validation."
   ]
  },
  {
   "cell_type": "markdown",
   "metadata": {},
   "source": [
    "### KNN"
   ]
  },
  {
   "cell_type": "markdown",
   "metadata": {},
   "source": [
    "Para el modelado del KNN vamos a realizar PCA."
   ]
  },
  {
   "cell_type": "markdown",
   "metadata": {},
   "source": [
    "###### PCA & KNN"
   ]
  },
  {
   "cell_type": "code",
   "execution_count": 53,
   "metadata": {
    "collapsed": false
   },
   "outputs": [
    {
     "data": {
      "text/plain": [
       "PCA(copy=True, iterated_power='auto', n_components=7, random_state=None,\n",
       "  svd_solver='auto', tol=0.0, whiten=True)"
      ]
     },
     "execution_count": 53,
     "metadata": {},
     "output_type": "execute_result"
    }
   ],
   "source": [
    "#Vamos a crear PCA antes del KNN\n",
    "pca = PCA(n_components=7, whiten=True)\n",
    "pca.fit(x_train)"
   ]
  },
  {
   "cell_type": "code",
   "execution_count": 54,
   "metadata": {
    "collapsed": false
   },
   "outputs": [
    {
     "data": {
      "text/plain": [
       "<matplotlib.text.Text at 0x113901780>"
      ]
     },
     "execution_count": 54,
     "metadata": {},
     "output_type": "execute_result"
    },
    {
     "data": {
      "image/png": "[encoded data removed]",
      "text/plain": [
       "<matplotlib.figure.Figure at 0x115279128>"
      ]
     },
     "metadata": {},
     "output_type": "display_data"
    }
   ],
   "source": [
    "#Imprimimos el PCA y la varianza acorde al numero de componentes\n",
    "plt.figure(1, figsize=(4, 3))\n",
    "plt.clf()\n",
    "plt.axes([.2, .2, .7, .7])\n",
    "plt.plot(pca.explained_variance_, linewidth=2)\n",
    "plt.axis('tight')\n",
    "plt.xlabel('n_components')\n",
    "plt.ylabel('explained_variance_')"
   ]
  },
  {
   "cell_type": "code",
   "execution_count": 61,
   "metadata": {
    "collapsed": false
   },
   "outputs": [
    {
     "data": {
      "text/plain": [
       "KNeighborsClassifier(algorithm='auto', leaf_size=30, metric='minkowski',\n",
       "           metric_params=None, n_jobs=1, n_neighbors=3, p=2,\n",
       "           weights='distance')"
      ]
     },
     "execution_count": 61,
     "metadata": {},
     "output_type": "execute_result"
    }
   ],
   "source": [
    "#Hacemos KNN con los 7 componentes principales\n",
    "KNN = KNeighborsClassifier(n_neighbors=3, weights=\"distance\")\n",
    "KNN.fit(x_train, y_train)"
   ]
  },
  {
   "cell_type": "code",
   "execution_count": 62,
   "metadata": {
    "collapsed": false
   },
   "outputs": [
    {
     "name": "stdout",
     "output_type": "stream",
     "text": [
      "Resultado de Precisión del Modelo: 0.6115040239696199\n"
     ]
    }
   ],
   "source": [
    "pred_noprob = KNN.predict(x_test)\n",
    "print(\"Resultado de Precisión del Modelo: {}\".format(accuracy_score(y_test, pred_noprob)))"
   ]
  },
  {
   "cell_type": "markdown",
   "metadata": {},
   "source": [
    "Vemos que el modelo de KNN tiene una precision de ~<b>61%</b> en el cross-validation."
   ]
  },
  {
   "cell_type": "markdown",
   "metadata": {},
   "source": [
    "(Falta solo un modelo)"
   ]
  },
  {
   "cell_type": "markdown",
   "metadata": {},
   "source": [
    "## Bosques Aleatorios"
   ]
  },
  {
   "cell_type": "code",
   "execution_count": 34,
   "metadata": {
    "collapsed": true
   },
   "outputs": [],
   "source": [
    "from sklearn.ensemble import RandomForestClassifier"
   ]
  },
  {
   "cell_type": "code",
   "execution_count": 36,
   "metadata": {
    "collapsed": false
   },
   "outputs": [],
   "source": [
    "bosque = RandomForestClassifier(n_estimators = 300, max_features=2)"
   ]
  },
  {
   "cell_type": "code",
   "execution_count": 38,
   "metadata": {
    "collapsed": false
   },
   "outputs": [],
   "source": [
    "bosque = bosque.fit(np.asarray(train_2[param]), np.asarray(train_2.tipo_visita))"
   ]
  },
  {
   "cell_type": "code",
   "execution_count": null,
   "metadata": {
    "collapsed": true
   },
   "outputs": [],
   "source": [
    "#predicciones = bosque.predict_proba(np.asarray(test_2[param]))\n",
    "#predicciones_noProba = bosque.predict(np.asarray(test_2[fe]))\n",
    "print(\"Porcentaje de Pérdida Logarítmica: {}\".format(log_loss(test_2.tipo_visita, predicciones).round(5)))\n",
    "print(\"Resultado de Precisión del Modelo: {}\".format(sklearn.metrics.accuracy_score(test_2.tipo_visita, predicciones_noProba)))"
   ]
  },
  {
   "cell_type": "markdown",
   "metadata": {},
   "source": [
    "# Clasificador de Soporte Vectorial"
   ]
  },
  {
   "cell_type": "code",
   "execution_count": 46,
   "metadata": {
    "collapsed": false
   },
   "outputs": [],
   "source": [
    "from sklearn.svm import LinearSVC\n",
    "LSVC= LinearSVC()\n",
    "LSVC = LSVC.fit(np.asarray(train_2[param]), np.asarray(train_2.tipo_visita))"
   ]
  },
  {
   "cell_type": "code",
   "execution_count": null,
   "metadata": {
    "collapsed": true
   },
   "outputs": [],
   "source": []
  },
  {
   "cell_type": "markdown",
   "metadata": {},
   "source": [
    "#### Predeciendo en el test original. Creando \"submission\" para Kaggle."
   ]
  }
 ],
 "metadata": {
  "anaconda-cloud": {},
  "kernelspec": {
   "display_name": "Python [default]",
   "language": "python",
   "name": "python3"
  },
  "language_info": {
   "codemirror_mode": {
    "name": "ipython",
    "version": 3
   },
   "file_extension": ".py",
   "mimetype": "text/x-python",
   "name": "python",
   "nbconvert_exporter": "python",
   "pygments_lexer": "ipython3",
   "version": "3.5.2"
  }
 },
 "nbformat": 4,
 "nbformat_minor": 1
}
